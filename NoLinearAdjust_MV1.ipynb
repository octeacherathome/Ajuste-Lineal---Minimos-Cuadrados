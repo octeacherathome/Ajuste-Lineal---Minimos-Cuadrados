{
  "nbformat": 4,
  "nbformat_minor": 0,
  "metadata": {
    "colab": {
      "provenance": [],
      "authorship_tag": "ABX9TyNccEbnxJsxPWxx3v52VISz",
      "include_colab_link": true
    },
    "kernelspec": {
      "name": "python3",
      "display_name": "Python 3"
    },
    "language_info": {
      "name": "python"
    }
  },
  "cells": [
    {
      "cell_type": "markdown",
      "metadata": {
        "id": "view-in-github",
        "colab_type": "text"
      },
      "source": [
        "<a href=\"https://colab.research.google.com/github/octeacherathome/Ajuste-Lineal---Minimos-Cuadrados/blob/master/NoLinearAdjust_MV1.ipynb\" target=\"_parent\"><img src=\"https://colab.research.google.com/assets/colab-badge.svg\" alt=\"Open In Colab\"/></a>"
      ]
    },
    {
      "cell_type": "markdown",
      "source": [
        "#**Ajuste Nolineal utilizando el modulo optimize de la libreria scipy**\n",
        "El código que se muestra a continuacíon permite realizar ajustes no lineal utilizando la libreria de scipy, especificamente el modulo optimize, donde se hace uso del algoritmo de Levenberg–Marquardt\n",
        "\n",
        "https://python4esac.github.io/fitting/least-squares-fitting.html"
      ],
      "metadata": {
        "id": "NfxK_XvFajJC"
      }
    },
    {
      "cell_type": "code",
      "source": [
        "#Esto pemite montar la carpeta de drive en el espacio de google colab\n",
        "#Se debe dar permisos para poder montar los archivos del drive\n",
        "from google.colab import drive\n",
        "import sys\n",
        "drive.mount('/content/gdrive')\n",
        "#cd path/to/your/folder\n",
        "#!cd /content/gdrive/MyDrive/\"Colab Notebooks\"\n",
        "#sys.path.append('/content/gdrive/My Drive/Colab Notebooks/')\n",
        "\n",
        "!ls  #listamos el directorio en el que estamos ubicados\n"
      ],
      "metadata": {
        "colab": {
          "base_uri": "https://localhost:8080/"
        },
        "id": "lRJ9sTW6oiyO",
        "outputId": "efa7bcb8-0ec8-483d-a35e-af32d2eb3440"
      },
      "execution_count": 1,
      "outputs": [
        {
          "output_type": "stream",
          "name": "stdout",
          "text": [
            "Mounted at /content/gdrive\n",
            "gdrive\tsample_data\n"
          ]
        }
      ]
    },
    {
      "cell_type": "code",
      "source": [
        "#Especificamos la ruta de la carpeta en la cual estaran los datos\n",
        "from pathlib import Path\n",
        "# the path of the directory which saves your .py file\n",
        "src_dir1 = Path('/content/gdrive/MyDrive/Colab Notebooks/')\n",
        "\n",
        "# add the path to system path\n",
        "import sys\n",
        "try:\n",
        "  sys.path.index(str(src_dir1))\n",
        "except ValueError:\n",
        "  sys.path.insert(0,str(src_dir1))\n",
        "\n",
        "# print system path\n",
        "sys.path"
      ],
      "metadata": {
        "id": "xL-zFOitdR-E",
        "colab": {
          "base_uri": "https://localhost:8080/"
        },
        "outputId": "5fc35f40-518e-4379-efae-c0ab896952a6"
      },
      "execution_count": 2,
      "outputs": [
        {
          "output_type": "execute_result",
          "data": {
            "text/plain": [
              "['/content/gdrive/MyDrive/Colab Notebooks',\n",
              " '/content',\n",
              " '/env/python',\n",
              " '/usr/lib/python310.zip',\n",
              " '/usr/lib/python3.10',\n",
              " '/usr/lib/python3.10/lib-dynload',\n",
              " '',\n",
              " '/usr/local/lib/python3.10/dist-packages',\n",
              " '/usr/lib/python3/dist-packages',\n",
              " '/usr/local/lib/python3.10/dist-packages/IPython/extensions',\n",
              " '/usr/local/lib/python3.10/dist-packages/setuptools/_vendor',\n",
              " '/root/.ipython']"
            ]
          },
          "metadata": {},
          "execution_count": 2
        }
      ]
    },
    {
      "cell_type": "code",
      "execution_count": 5,
      "metadata": {
        "id": "irwfH5VCYpKg"
      },
      "outputs": [],
      "source": [
        "#Ajuste No lineal para una funcion senoidal\n",
        "#Programa para realizar un ajsute lineal en python\n",
        "import numpy as np\n",
        "import matplotlib.pyplot as plt\n",
        "import fit_leastsq as f_l #libreria para ajusta los datos\n",
        "import time as tm\n",
        "import random as rand"
      ]
    },
    {
      "cell_type": "markdown",
      "source": [
        "# La funcion que se desee ajustar debe ser definida en la definicion funF(valor x, parametros)"
      ],
      "metadata": {
        "id": "e4mQkB-ebiqf"
      }
    },
    {
      "cell_type": "code",
      "source": [
        "#Funcion para convertir string a float, devueve un lista np\n",
        "def str2float(lst):\n",
        "\treturn np.array([float(i) for i in lst])\n",
        "\n",
        "#Funcion para contar el numero de datos por columna\n",
        "#Si encuentra espacio vacio, el programa lo ignora\n",
        "def size_Num(array):\n",
        "\tn2 = array.size\n",
        "\tn3 = 0\n",
        "\n",
        "\tfor i in range(0,n2):\n",
        "\t   if array[i] != '':\n",
        "\t      n3 += 1\n",
        "\treturn n3\n",
        "\n",
        "#Definicion de funcion\n",
        "\"\"\"\n",
        "#Ajuste de una funcion  tipo seno o coseno\n",
        "def funF(x, p0,p1,p2, p3):\n",
        "\treturn p0*np.sin(2*np.pi*p1*x+p2)+p3\n",
        "def funFF(x, p):\n",
        "\treturn funF(x,*p)\n",
        "\"\"\"\n",
        "\n",
        "#Definicion de la funcion para ajustar\n",
        "def funF(x, p2,p1,p0):\n",
        "\treturn p2*x**2 + p1*x + p0\n",
        "def funFF(x, p):\n",
        "\treturn funF(x,*p)"
      ],
      "metadata": {
        "id": "AfaqqbScY1zA"
      },
      "execution_count": 3,
      "outputs": []
    },
    {
      "cell_type": "code",
      "source": [
        "#Se pide el nombre de archivo\n",
        "print(\"Nombre de archivo de los datos con extension: \", end=\"\")\n",
        "#name = str(input())\n",
        "name = 'DatosMA.csv'\n",
        "print(\"Delimitador de campo: \", end=\"\")\n",
        "#delimiter = str(input())\n",
        "delimiter = ','\n",
        "print(\"# de linea de inicio de datos: \", end=\"\")\n",
        "#sLine = int(input())\n",
        "sLine = 1\n",
        "print(\"# de ajustes lineales a realizar: \", end=\"\")\n",
        "#numAjus = int(input())\n",
        "numAjus = 5\n",
        "\n",
        "fileData = np.loadtxt(sys.path[0]+'/'+name,dtype=str, delimiter=delimiter, skiprows = sLine)"
      ],
      "metadata": {
        "colab": {
          "base_uri": "https://localhost:8080/"
        },
        "id": "GV8Zn6EPY8yw",
        "outputId": "62c502d0-f25b-4d5a-895d-86794cf2f413"
      },
      "execution_count": 14,
      "outputs": [
        {
          "output_type": "stream",
          "name": "stdout",
          "text": [
            "Nombre de archivo de los datos con extension: Delimitador de campo: # de linea de inicio de datos: # de ajustes lineales a realizar: "
          ]
        }
      ]
    },
    {
      "cell_type": "markdown",
      "source": [
        "# El numero de parametros que se ingresan depende del tipo de funcion que se desee ajustar"
      ],
      "metadata": {
        "id": "WMQ-FM_xb3A2"
      }
    },
    {
      "cell_type": "code",
      "source": [
        "1#Si se utiliza otra funcion se debe modificar la\n",
        "#1\n",
        "print(\"Parametros de ajustes iniciales: \")\n",
        "print(\"Coeficiente P2: \", end=\"\")\n",
        "A = float(input())\n",
        "print(\"Coeficiente P1: \", end=\"\")\n",
        "B = float(input())\n",
        "print(\"Coeficiente P0: \", end=\"\")\n",
        "C = float(input())\n",
        "\n",
        "#Lista inicial de los parametros del ajuste\n",
        "p_start = [A,B,C]"
      ],
      "metadata": {
        "id": "viKCM4-8ZSI2",
        "colab": {
          "base_uri": "https://localhost:8080/"
        },
        "outputId": "17550651-bd15-422f-8cd4-cfedb594a24b"
      },
      "execution_count": 15,
      "outputs": [
        {
          "name": "stdout",
          "output_type": "stream",
          "text": [
            "Parametros de ajustes iniciales: \n",
            "Coeficiente P2: 1\n",
            "Coeficiente P1: 1\n",
            "Coeficiente P0: 1\n"
          ]
        }
      ]
    },
    {
      "cell_type": "markdown",
      "source": [
        "# Se realiza el ajuste respectivo de los datos"
      ],
      "metadata": {
        "id": "g1jtjSBucBEt"
      }
    },
    {
      "cell_type": "code",
      "source": [
        "#Grafica de la funcion con los parametros de ajuste iniciales y\n",
        "#con la funcion con los parametros ajustados\n",
        "plt.figure()\n",
        "rand.seed(tm.time())\n",
        "\n",
        "#Se realiza un ciclo por cada conjunto de datos\n",
        "for i in range(0,2*numAjus-1,2):\n",
        "\n",
        "  #Se genera un conjunto de valores de x\n",
        "  #x_exp = (x_exp - x_exp[0])\n",
        "  n = size_Num(fileData[:,i])\n",
        "  x_exp = str2float(fileData[:n,i])\n",
        "  y_exp = str2float(fileData[:n,i+1])\n",
        "\n",
        "  x_teo = np.linspace(x_exp[0],x_exp[n-1],n*5)\n",
        "\n",
        "  ##########Ajuste NoLineal de los datos##########\n",
        "  pfit_ls, perr_ls = f_l.fit_leastsq(p_start, x_exp, y_exp, funFF)\n",
        "  chi_sq = sum((funFF(x_exp, pfit_ls) - y_exp)**2/funFF(x_exp, pfit_ls))\n",
        "  print(\"Asjute Nolineal #: \", (i/2)+1)\n",
        "  print(\"# Fit parameters and parameter errors from lestsq method :\")\n",
        "  print(\"pfit = \", pfit_ls)\n",
        "  print(\"perr = \", perr_ls)\n",
        "  print(\"Chi_2 = \", chi_sq)\n",
        "  print(\"\")\n",
        "  ##########Ajuste NoLineal de los datos##########\n",
        "\n",
        "  #print(\"Datos en x: %f\", x_exp)\n",
        "\t#print(\"Datos en y: %f\", y_exp)\n",
        "  r = rand.random()\n",
        "  b = rand.random()\n",
        "  g = rand.random()\n",
        "  color = (r, g, b)\n",
        "\n",
        "  label1 = \"Exp. Data - \" #Modificar esta linea si se desea cambiar la desc. legenda\n",
        "  label2 = \"Linear Adjust - \" #Modificar esta linea si se desea cambiar la desc. legenda\n",
        "\n",
        "  #Grafica de la funcion con los parametros de ajustados\n",
        "  plt.plot(x_exp,y_exp, \"o\", label=label1 + str(i/2+1), color = color)\n",
        "  plt.plot(x_teo,funFF(x_teo, pfit_ls), \"--\", label=label2+str(i/2 + 1), color = color)\n",
        "\n",
        "  ##Ajuste Nolineal##\n",
        "plt.xlabel(\"x_data (Unit)\")\n",
        "plt.ylabel(\"y_data (Unit)\")\n",
        "plt.title(\"Title2\")\n",
        "plt.legend()\n",
        "plt.show()\n",
        "plt.savefig(sys.path[0]+'/'+\"noLinearAdjust.png\")"
      ],
      "metadata": {
        "colab": {
          "base_uri": "https://localhost:8080/",
          "height": 1000
        },
        "id": "VVsiut5eZX8e",
        "outputId": "ba03afd6-1624-4b6c-b379-049b10664745"
      },
      "execution_count": 19,
      "outputs": [
        {
          "output_type": "stream",
          "name": "stdout",
          "text": [
            "Asjute Nolineal #:  1.0\n",
            "# Fit parameters and parameter errors from lestsq method :\n",
            "pfit =  [ 8.87443120e+02  1.12225537e+02 -3.75359733e-02]\n",
            "perr =  [2.74422645 2.50452637 0.52166374]\n",
            "Chi_2 =  0.08912057386699913\n",
            "\n",
            "Asjute Nolineal #:  2.0\n",
            "# Fit parameters and parameter errors from lestsq method :\n",
            "pfit =  [1615.83923978  184.23381998   -5.32929996]\n",
            "perr =  [17.55763748 11.79242629  1.81260745]\n",
            "Chi_2 =  3.6005786932298856\n",
            "\n",
            "Asjute Nolineal #:  3.0\n",
            "# Fit parameters and parameter errors from lestsq method :\n",
            "pfit =  [2136.13185142  137.03272884   -2.57047829]\n",
            "perr =  [10.16623045  6.172815    0.85918692]\n",
            "Chi_2 =  0.5691882517782675\n",
            "\n",
            "Asjute Nolineal #:  4.0\n",
            "# Fit parameters and parameter errors from lestsq method :\n",
            "pfit =  [ 2.52179315e+03  1.89719008e+02 -4.19073374e-01]\n",
            "perr =  [3.61784735 1.96099092 0.24257695]\n",
            "Chi_2 =  0.028384953733576117\n",
            "\n",
            "Asjute Nolineal #:  5.0\n",
            "# Fit parameters and parameter errors from lestsq method :\n",
            "pfit =  [2.83034545e+03 1.29097579e+02 1.95671862e-01]\n",
            "perr =  [1.75278856 0.93141605 0.11335868]\n",
            "Chi_2 =  0.016596530032630074\n",
            "\n"
          ]
        },
        {
          "output_type": "display_data",
          "data": {
            "text/plain": [
              "<Figure size 640x480 with 1 Axes>"
            ],
            "image/png": "[encoded data removed]"
          },
          "metadata": {}
        },
        {
          "output_type": "display_data",
          "data": {
            "text/plain": [
              "<Figure size 640x480 with 0 Axes>"
            ]
          },
          "metadata": {}
        }
      ]
    }
  ]
}