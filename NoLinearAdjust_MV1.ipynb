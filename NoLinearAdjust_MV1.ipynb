{
  "nbformat": 4,
  "nbformat_minor": 0,
  "metadata": {
    "colab": {
      "provenance": [],
      "toc_visible": true,
      "authorship_tag": "ABX9TyMHUAk01enc9KD9Nuer/knl",
      "include_colab_link": true
    },
    "kernelspec": {
      "name": "python3",
      "display_name": "Python 3"
    },
    "language_info": {
      "name": "python"
    }
  },
  "cells": [
    {
      "cell_type": "markdown",
      "metadata": {
        "id": "view-in-github",
        "colab_type": "text"
      },
      "source": [
        "<a href=\"https://colab.research.google.com/github/octeacherathome/Ajuste-Lineal---Minimos-Cuadrados/blob/master/NoLinearAdjust_MV1.ipynb\" target=\"_parent\"><img src=\"https://colab.research.google.com/assets/colab-badge.svg\" alt=\"Open In Colab\"/></a>"
      ]
    },
    {
      "cell_type": "markdown",
      "source": [
        "#**Ajuste Nolineal utilizando el modulo optimize de la libreria scipy**\n",
        "El código que se muestra a continuacíon permite realizar ajustes no lineal utilizando la libreria de scipy, especificamente el modulo optimize, donde se hace uso del algoritmo de Levenberg–Marquardt\n",
        "\n",
        "https://python4esac.github.io/fitting/least-squares-fitting.html"
      ],
      "metadata": {
        "id": "NfxK_XvFajJC"
      }
    },
    {
      "cell_type": "code",
      "source": [
        "#Esto pemite montar la carpeta de drive en el espacio de google colab\n",
        "#Se debe dar permisos para poder montar los archivos del drive\n",
        "from google.colab import drive\n",
        "import sys\n",
        "drive.mount('/content/gdrive')\n",
        "#cd path/to/your/folder\n",
        "#!cd /content/gdrive/MyDrive/\"Colab Notebooks\"\n",
        "#sys.path.append('/content/gdrive/My Drive/Colab Notebooks/')\n",
        "\n",
        "!ls  #listamos el directorio en el que estamos ubicados\n"
      ],
      "metadata": {
        "colab": {
          "base_uri": "https://localhost:8080/"
        },
        "id": "lRJ9sTW6oiyO",
        "outputId": "24d4a26e-23d7-4354-c0e9-e23a064f4103"
      },
      "execution_count": 1,
      "outputs": [
        {
          "output_type": "stream",
          "name": "stdout",
          "text": [
            "Mounted at /content/gdrive\n",
            "gdrive\tsample_data\n"
          ]
        }
      ]
    },
    {
      "cell_type": "code",
      "source": [
        "#Especificamos la ruta de la carpeta en la cual estaran los datos\n",
        "from pathlib import Path\n",
        "# the path of the directory which saves your .py file\n",
        "src_dir1 = Path('/content/gdrive/MyDrive/Colab Notebooks/')\n",
        "\n",
        "# add the path to system path\n",
        "import sys\n",
        "try:\n",
        "  sys.path.index(str(src_dir1))\n",
        "except ValueError:\n",
        "  sys.path.insert(0,str(src_dir1))\n",
        "\n",
        "# print system path\n",
        "sys.path"
      ],
      "metadata": {
        "id": "xL-zFOitdR-E",
        "colab": {
          "base_uri": "https://localhost:8080/"
        },
        "outputId": "0f09ac6c-64de-42a3-ff43-05be689d2d88"
      },
      "execution_count": 2,
      "outputs": [
        {
          "output_type": "execute_result",
          "data": {
            "text/plain": [
              "['/content/gdrive/MyDrive/Colab Notebooks',\n",
              " '/content',\n",
              " '/env/python',\n",
              " '/usr/lib/python310.zip',\n",
              " '/usr/lib/python3.10',\n",
              " '/usr/lib/python3.10/lib-dynload',\n",
              " '',\n",
              " '/usr/local/lib/python3.10/dist-packages',\n",
              " '/usr/lib/python3/dist-packages',\n",
              " '/usr/local/lib/python3.10/dist-packages/IPython/extensions',\n",
              " '/usr/local/lib/python3.10/dist-packages/setuptools/_vendor',\n",
              " '/root/.ipython']"
            ]
          },
          "metadata": {},
          "execution_count": 2
        }
      ]
    },
    {
      "cell_type": "code",
      "execution_count": 3,
      "metadata": {
        "id": "irwfH5VCYpKg"
      },
      "outputs": [],
      "source": [
        "#Ajuste No lineal para una funcion senoidal\n",
        "#Programa para realizar un ajsute lineal en python\n",
        "import numpy as np\n",
        "import matplotlib.pyplot as plt\n",
        "import fit_leastsq as f_l #libreria para ajusta los datos\n",
        "import time as tm\n",
        "import random as rand"
      ]
    },
    {
      "cell_type": "markdown",
      "source": [
        "# La funcion que se desee ajustar debe ser definida en la definicion funF(valor x, parametros)"
      ],
      "metadata": {
        "id": "e4mQkB-ebiqf"
      }
    },
    {
      "cell_type": "code",
      "source": [
        "#Funcion para convertir string a float, devueve un lista np\n",
        "def str2float(lst):\n",
        "\treturn np.array([float(i) for i in lst])\n",
        "\n",
        "#Funcion para contar el numero de datos por columna\n",
        "#Si encuentra espacio vacio, el programa lo ignora\n",
        "def size_Num(array):\n",
        "\tn2 = array.size\n",
        "\tn3 = 0\n",
        "\n",
        "\tfor i in range(0,n2):\n",
        "\t   if array[i] != '':\n",
        "\t      n3 += 1\n",
        "\treturn n3\n",
        "\n",
        "#Definicion de funcion\n",
        "\"\"\"\n",
        "#Ajuste de una funcion  tipo seno o coseno\n",
        "def funF(x, p0,p1,p2, p3):\n",
        "\treturn p0*np.sin(2*np.pi*p1*x+p2)+p3\n",
        "def funFF(x, p):\n",
        "\treturn funF(x,*p)\n",
        "\"\"\"\n",
        "\n",
        "#Definicion de la funcion para ajustar\n",
        "def funF(x, p2,p1,p0):\n",
        "\treturn p2*x**2 + p1*x + p0\n",
        "def funFF(x, p):\n",
        "\treturn funF(x,*p)"
      ],
      "metadata": {
        "id": "AfaqqbScY1zA"
      },
      "execution_count": 4,
      "outputs": []
    },
    {
      "cell_type": "code",
      "source": [
        "#Se pide el nombre de archivo\n",
        "print(\"Nombre de archivo de los datos con extension: \", end=\"\")\n",
        "#name = str(input())\n",
        "name = 'DatosMP2.csv'\n",
        "print(\"Delimitador de campo: \", end=\"\")\n",
        "#delimiter = str(input())\n",
        "delimiter = ','\n",
        "print(\"# de linea de inicio de datos: \", end=\"\")\n",
        "#sLine = int(input())\n",
        "sLine = 1\n",
        "print(\"# de ajustes lineales a realizar: \", end=\"\")\n",
        "#numAjus = int(input())\n",
        "numAjus = 3\n",
        "\n",
        "fileData = np.loadtxt(sys.path[0]+'/'+name,dtype=float, delimiter=delimiter, skiprows = sLine)"
      ],
      "metadata": {
        "colab": {
          "base_uri": "https://localhost:8080/"
        },
        "id": "GV8Zn6EPY8yw",
        "outputId": "01830c21-b0f2-4b29-b48b-d51cebbfd070"
      },
      "execution_count": 5,
      "outputs": [
        {
          "name": "stdout",
          "output_type": "stream",
          "text": [
            "Nombre de archivo de los datos con extension: Delimitador de campo: # de linea de inicio de datos: # de ajustes lineales a realizar: 3\n"
          ]
        }
      ]
    },
    {
      "cell_type": "markdown",
      "source": [
        "# El numero de parametros que se ingresan depende del tipo de funcion que se desee ajustar"
      ],
      "metadata": {
        "id": "WMQ-FM_xb3A2"
      }
    },
    {
      "cell_type": "code",
      "source": [
        "#Si se utiliza otra funcion se debe modificar la\n",
        "#1\n",
        "print(\"Parametros de ajustes iniciales: \")\n",
        "print(\"Coeficiente P2: \", end=\"\")\n",
        "A = float(input())\n",
        "print(\"Coeficiente P1: \", end=\"\")\n",
        "B = float(input())\n",
        "print(\"Coeficiente P0: \", end=\"\")\n",
        "C = float(input())\n",
        "\n",
        "#Lista inicial de los parametros del ajuste\n",
        "p_start = [A,B,C]"
      ],
      "metadata": {
        "id": "viKCM4-8ZSI2",
        "colab": {
          "base_uri": "https://localhost:8080/"
        },
        "outputId": "2e597c99-1093-4261-d46e-a8d71f220f9a"
      },
      "execution_count": 6,
      "outputs": [
        {
          "name": "stdout",
          "output_type": "stream",
          "text": [
            "Parametros de ajustes iniciales: \n",
            "Coeficiente P2: 1\n",
            "Coeficiente P1: 1\n",
            "Coeficiente P0: 1\n"
          ]
        }
      ]
    },
    {
      "cell_type": "markdown",
      "source": [
        "# Se realiza el ajuste respectivo de los datos"
      ],
      "metadata": {
        "id": "g1jtjSBucBEt"
      }
    },
    {
      "cell_type": "code",
      "source": [
        "#Grafica de la funcion con los parametros de ajuste iniciales y\n",
        "#con la funcion con los parametros ajustados\n",
        "plt.figure()\n",
        "rand.seed(tm.time())\n",
        "\n",
        "#Se realiza un ciclo por cada conjunto de datos\n",
        "for i in range(0,2*numAjus-1,2):\n",
        "\n",
        "  #Se genera un conjunto de valores de x\n",
        "  #x_exp = (x_exp - x_exp[0])\n",
        "  n = size_Num(fileData[:,i])\n",
        "  x_exp = str2float(fileData[:n,i])\n",
        "  y_exp = str2float(fileData[:n,i+1])\n",
        "\n",
        "  x_teo = np.linspace(x_exp[0],x_exp[n-1],n*5)\n",
        "\n",
        "  ##########Ajuste NoLineal de los datos##########\n",
        "  pfit_ls, perr_ls = f_l.fit_leastsq(p_start, x_exp, y_exp, funFF)\n",
        "  chi_sq = sum((funFF(x_exp, pfit_ls) - y_exp)**2/funFF(x_exp, pfit_ls))\n",
        "  print(\"Asjute Nolineal #: \", i)\n",
        "  print(\"\\n# Fit parameters and parameter errors from lestsq method :\")\n",
        "  print(\"pfit = \", pfit_ls)\n",
        "  print(\"perr = \", perr_ls)\n",
        "  print(\"Chi_2 = \", chi_sq)\n",
        "  ##########Ajuste NoLineal de los datos##########\n",
        "\n",
        "  #print(\"Datos en x: %f\", x_exp)\n",
        "\t#print(\"Datos en y: %f\", y_exp)\n",
        "  r = rand.random()\n",
        "  b = rand.random()\n",
        "  g = rand.random()\n",
        "  color = (r, g, b)\n",
        "\n",
        "  label1 = \"Exp. Data - \" #Modificar esta linea si se desea cambiar la desc. legenda\n",
        "  label2 = \"Linear Adjust - \" #Modificar esta linea si se desea cambiar la desc. legenda\n",
        "\n",
        "  #Grafica de la funcion con los parametros de ajustados\n",
        "  plt.plot(x_exp,y_exp, \"o\", label=label1 + str(i/2+1), color = color)\n",
        "  plt.plot(x_teo,funFF(x_teo, pfit_ls), \"--\", label=label2+str(i/2 + 1), color = color)\n",
        "\n",
        "  ##Ajuste Nolineal##\n",
        "plt.xlabel(\"x_data (Unit)\")\n",
        "plt.ylabel(\"y_data (Unit)\")\n",
        "plt.title(\"Title2\")\n",
        "plt.legend()\n",
        "plt.show()\n",
        "plt.savefig(sys.path[0]+'/'+\"noLinearAdjust.png\")"
      ],
      "metadata": {
        "colab": {
          "base_uri": "https://localhost:8080/",
          "height": 802
        },
        "id": "VVsiut5eZX8e",
        "outputId": "d2f94d4c-d19d-4080-ba80-9dddddae9017"
      },
      "execution_count": 9,
      "outputs": [
        {
          "output_type": "stream",
          "name": "stdout",
          "text": [
            "Asjute Nolineal #:  0\n",
            "\n",
            "# Fit parameters and parameter errors from lestsq method :\n",
            "pfit =  [ 1.00000000e+00 -5.31807482e-14  2.90001574e-14]\n",
            "perr =  [8.35459813e-16 3.06365815e-15 3.54468644e-15]\n",
            "Chi_2 =  2.900015743071606e-14\n",
            "Asjute Nolineal #:  2\n",
            "\n",
            "# Fit parameters and parameter errors from lestsq method :\n",
            "pfit =  [ 1.25000000e+00 -5.52636780e-14  3.07226186e-14]\n",
            "perr =  [7.12239302e-16 2.62345638e-15 4.75327747e-15]\n",
            "Chi_2 =  3.072261859385379e-14\n",
            "Asjute Nolineal #:  4\n",
            "\n",
            "# Fit parameters and parameter errors from lestsq method :\n",
            "pfit =  [ 1.50000000e+00 -5.98977579e-14  3.37341333e-14]\n",
            "perr =  [5.63928536e-16 1.83698953e-15 5.10948540e-15]\n",
            "Chi_2 =  3.3734133282989195e-14\n"
          ]
        },
        {
          "output_type": "display_data",
          "data": {
            "text/plain": [
              "<Figure size 640x480 with 1 Axes>"
            ],
            "image/png": "[encoded data removed]"
          },
          "metadata": {}
        },
        {
          "output_type": "display_data",
          "data": {
            "text/plain": [
              "<Figure size 640x480 with 0 Axes>"
            ]
          },
          "metadata": {}
        }
      ]
    }
  ]
}