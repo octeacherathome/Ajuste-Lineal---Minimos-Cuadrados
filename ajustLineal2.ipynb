{
  "nbformat": 4,
  "nbformat_minor": 0,
  "metadata": {
    "colab": {
      "provenance": []
    },
    "kernelspec": {
      "name": "python3",
      "display_name": "Python 3"
    },
    "language_info": {
      "name": "python"
    }
  },
  "cells": [
    {
      "cell_type": "markdown",
      "source": [
        "#**Ajuste lineal utilizando el metodo de minimos cuadrados**\n",
        "El código que se muestra a continuacíon permite realizar ajustes por medio del\n",
        "método de los mínimos cuadrados"
      ],
      "metadata": {
        "id": "UqDGNf13zlSH"
      }
    },
    {
      "cell_type": "code",
      "source": [
        "#Esto pemite montar la carpeta de drive en el espacio de google colab\n",
        "#Se debe dar permisos para poder montar los archivos del drive\n",
        "from google.colab import drive\n",
        "import sys\n",
        "drive.mount('/content/gdrive')\n",
        "#cd path/to/your/folder\n",
        "#!cd /content/gdrive/MyDrive/\"Colab Notebooks\"\n",
        "#sys.path.append('/content/gdrive/My Drive/Colab Notebooks/')\n",
        "\n",
        "!ls  #listamos el directorio en el que estamos ubicados\n"
      ],
      "metadata": {
        "colab": {
          "base_uri": "https://localhost:8080/"
        },
        "id": "lRJ9sTW6oiyO",
        "outputId": "1dddc0f2-1953-42a3-a841-f400aa72e04a"
      },
      "execution_count": null,
      "outputs": [
        {
          "output_type": "stream",
          "name": "stdout",
          "text": [
            "Drive already mounted at /content/gdrive; to attempt to forcibly remount, call drive.mount(\"/content/gdrive\", force_remount=True).\n",
            "gdrive\tsample_data\n"
          ]
        }
      ]
    },
    {
      "cell_type": "code",
      "source": [
        "#Especificamos la ruta de la carpeta en la cual estaran los datos\n",
        "from pathlib import Path\n",
        "# the path of the directory which saves your .py file\n",
        "src_dir1 = Path('/content/gdrive/MyDrive/Colab Notebooks/')\n",
        "\n",
        "# add the path to system path\n",
        "import sys\n",
        "try:\n",
        "  sys.path.index(str(src_dir1))\n",
        "except ValueError:\n",
        "  sys.path.insert(0,str(src_dir1))\n",
        "\n",
        "# print system path\n",
        "sys.path"
      ],
      "metadata": {
        "id": "xL-zFOitdR-E",
        "colab": {
          "base_uri": "https://localhost:8080/"
        },
        "outputId": "1599e7ad-1aec-4095-88be-fc4d49c0b2b0"
      },
      "execution_count": null,
      "outputs": [
        {
          "output_type": "execute_result",
          "data": {
            "text/plain": [
              "['/content/gdrive/MyDrive/Colab Notebooks',\n",
              " '/content',\n",
              " '/env/python',\n",
              " '/usr/lib/python310.zip',\n",
              " '/usr/lib/python3.10',\n",
              " '/usr/lib/python3.10/lib-dynload',\n",
              " '',\n",
              " '/usr/local/lib/python3.10/dist-packages',\n",
              " '/usr/lib/python3/dist-packages',\n",
              " '/usr/local/lib/python3.10/dist-packages/IPython/extensions',\n",
              " '/usr/local/lib/python3.10/dist-packages/setuptools/_vendor',\n",
              " '/root/.ipython']"
            ]
          },
          "metadata": {},
          "execution_count": 10
        }
      ]
    },
    {
      "cell_type": "code",
      "execution_count": null,
      "metadata": {
        "id": "rMRB3uVunbS2"
      },
      "outputs": [],
      "source": [
        "#Programa para realizar un ajsute lineal en python\n",
        "#Se importan todas las librerias necesarias para realizar los ajustes\n",
        "import numpy as np\n",
        "import matplotlib.pyplot as plt\n",
        "import linearAdjust as la #Este modulo debe estar el la carpeta donde se ejecuta el codigo\n",
        "import random as rand\n",
        "import time as tm"
      ]
    },
    {
      "cell_type": "code",
      "source": [
        "#Funcion para convertir los datos tipo str a float\n",
        "def str2float(lst):\n",
        "\treturn np.array([float(i) for i in lst])"
      ],
      "metadata": {
        "id": "4t1E3uDM0VJR"
      },
      "execution_count": null,
      "outputs": []
    },
    {
      "cell_type": "code",
      "source": [
        "#Se pide el nombre de archivo y se carga el mismo\n",
        "print(\"Nombre de archivo de los datos con extension: \", end=\"\")\n",
        "name = str(input())\n",
        "#name = \"\"\n",
        "print(\"Delimitador de campo: \", end=\"\")\n",
        "delimiter = str(input())\n",
        "#delimiter = \"\"\n",
        "print(\"# de linea de inicio de datos: \", end=\"\")\n",
        "sLine = int(input())\n",
        "#sLine = \"\"\n",
        "print(\"# de ajustes lineales a realizar: \", end=\"\")\n",
        "numAjus = int(input())\n",
        "#numAjus = \"\"\n",
        "fileData = np.loadtxt(sys.path[0]+'/'+name,dtype=str, delimiter=delimiter, skiprows = sLine)"
      ],
      "metadata": {
        "colab": {
          "base_uri": "https://localhost:8080/"
        },
        "id": "gdT4kF4K0lwl",
        "outputId": "c070a4b0-59b4-4968-9c04-b226e2dfd765"
      },
      "execution_count": null,
      "outputs": [
        {
          "name": "stdout",
          "output_type": "stream",
          "text": [
            "Nombre de archivo de los datos con extension: dataLineal.csv\n",
            "Delimitador de campo: ;\n",
            "# de linea de inicio de datos: 1\n",
            "# de ajustes lineales a realizar: 2\n"
          ]
        }
      ]
    },
    {
      "cell_type": "code",
      "source": [
        "#Realizamos los ajustes y hacemos las graficas al mismo tiempo\n",
        "plt.figure()\n",
        "rand.seed(tm.time())\n",
        "\n",
        "#Se realiza un ciclo por cada conjunto de datos\n",
        "for i in range(0,2*numAjus-1,2):\n",
        "\t#Se extraen los datos\n",
        "\tx_exp = str2float(fileData[:,i])\n",
        "\ty_exp = str2float(fileData[:,i+1])\n",
        "\tn = x_exp.size\n",
        "\n",
        "\t##########Ajuste Lineal de los datos##########\n",
        "\t(pend, inter, Dm, Db, r, Dy) = la.linAdj(x_exp,y_exp,n)\n",
        "\t##########Ajuste Lineal de los datos##########\n",
        "\n",
        "\tprint(\"##########Ajuste Lineal de los datos##########\")\n",
        "\tprint(\"Asjute lineal #: \", i)\n",
        "\tprint(\"pendiente: \", pend)\n",
        "\tprint(\"intercepto: \", inter)\n",
        "\tprint(\"maximo error en Dy: \", Dy)\n",
        "\tprint(\"error en Pendiente: \",Dm)\n",
        "\tprint(\"error en intercepto: \",Db)\n",
        "\tprint(\"Coeficiente de Correlacion Lineal (R^2): \",r)\n",
        "\tprint(\"##############################################\")\n",
        "\n",
        "\tx_teo = np.linspace(x_exp[0], x_exp[n-1], n*100)\n",
        "\ty_teo = pend*x_teo + inter\n",
        "\n",
        "\t#print(\"Datos en x: %f\", x_exp)\n",
        "\t#print(\"Datos en y: %f\", y_exp)\n",
        "\tr = rand.random()\n",
        "\tb = rand.random()\n",
        "\tg = rand.random()\n",
        "\tcolor = (r, g, b)\n",
        "\n",
        "\tlabel1 = \"Exp. Data - \" #Modificar esta linea si se desea cambiar la desc. legenda\n",
        "\tlabel2 = \"Linear Adjust - \" #Modificar esta linea si se desea cambiar la desc. legenda\n",
        "\n",
        "\tplt.plot(x_exp,y_exp,\"o\", label=label1 + str(i/2+1),color = color)\n",
        "\tplt.plot(x_teo,y_teo,\"--\", label=label2+str(i/2 + 1), color = color)\n",
        "\n",
        "plt.xlabel(\"x Data\") #Modificar esta linea para cambiar el label del eje x\n",
        "plt.ylabel(\"y Data\") #Modificar esta linea para cambiar el label del eje y\n",
        "plt.title(\"Linear Adjust\") #Modificar esta linea para cambiar el titulo de la grafica\n",
        "plt.legend()\n",
        "plt.savefig(sys.path[0]+'/'+\"linearAdjust.png\")\n",
        "plt.show()"
      ],
      "metadata": {
        "colab": {
          "base_uri": "https://localhost:8080/",
          "height": 784
        },
        "id": "9KLpPnxq1Dg3",
        "outputId": "97d5e3fb-7258-4030-8b69-14272f14b3c2"
      },
      "execution_count": null,
      "outputs": [
        {
          "output_type": "stream",
          "name": "stdout",
          "text": [
            "##########Ajuste Lineal de los datos##########\n",
            "Asjute lineal #:  0\n",
            "pendiente:  0.515104603634106\n",
            "intercepto:  0.5282404393698164\n",
            "maximo error en Dy:  0.28813267291939926\n",
            "error en Pendiente:  0.05785843304430078\n",
            "error en intercepto:  0.05175015574347065\n",
            "Coeficiente de Correlacion Lineal (R^2):  0.8556447420523671\n",
            "##############################################\n",
            "##########Ajuste Lineal de los datos##########\n",
            "Asjute lineal #:  2\n",
            "pendiente:  1.4901642838916653\n",
            "intercepto:  0.5290105319788478\n",
            "maximo error en Dy:  0.297207048629884\n",
            "error en Pendiente:  0.059680611536396956\n",
            "error en intercepto:  0.053379961733656695\n",
            "Coeficiente de Correlacion Lineal (R^2):  0.9775234848521954\n",
            "##############################################\n"
          ]
        },
        {
          "output_type": "display_data",
          "data": {
            "text/plain": [
              "<Figure size 640x480 with 1 Axes>"
            ],
            "image/png": "[encoded data removed]"
          },
          "metadata": {}
        }
      ]
    }
  ]
}