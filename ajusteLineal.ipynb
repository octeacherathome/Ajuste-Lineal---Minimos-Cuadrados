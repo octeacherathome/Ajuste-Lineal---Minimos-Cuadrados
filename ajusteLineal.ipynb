{
  "nbformat": 4,
  "nbformat_minor": 0,
  "metadata": {
    "colab": {
      "provenance": []
    },
    "kernelspec": {
      "name": "python3",
      "display_name": "Python 3"
    },
    "language_info": {
      "name": "python"
    }
  },
  "cells": [
    {
      "cell_type": "markdown",
      "source": [
        "#**Ajuste lineal utilizando el metodo de minimos cuadrados**\n",
        "El código que se muestra a continuacíon permite realizar ajustes por medio del\n",
        "método de los mínimos cuadrados"
      ],
      "metadata": {
        "id": "cporQQ7SZ3hN"
      }
    },
    {
      "cell_type": "code",
      "source": [
        "#Linea de codigo para importar la carpeta del drive al ambiente de google colab\n",
        "from google.colab import drive\n",
        "drive.mount('/content/gdrive')"
      ],
      "metadata": {
        "colab": {
          "base_uri": "https://localhost:8080/"
        },
        "id": "Ym7MdYawTmRC",
        "outputId": "a1231e9e-a9d6-4e59-98d1-975ae685b01a"
      },
      "execution_count": 1,
      "outputs": [
        {
          "output_type": "stream",
          "name": "stdout",
          "text": [
            "Mounted at /content/gdrive\n"
          ]
        }
      ]
    },
    {
      "cell_type": "code",
      "source": [
        "#Especificamos la ruta de la carpeta en la cual estaran los datos\n",
        "from pathlib import Path\n",
        "# the path of the directory which saves your .py file\n",
        "src_dir1 = Path('/content/drive/MyDrive/Colab Notebooks/')\n",
        "\n",
        "# add the path to system path\n",
        "import sys\n",
        "try:\n",
        "  sys.path.index(str(src_dir1))\n",
        "except ValueError:\n",
        "  sys.path.insert(0,str(src_dir1))\n",
        "\n",
        "# print system path\n",
        "sys.path"
      ],
      "metadata": {
        "id": "xL-zFOitdR-E"
      },
      "execution_count": null,
      "outputs": []
    },
    {
      "cell_type": "code",
      "source": [
        "#Se importan las librerias necesarias para le funcionamiento del codigo\n",
        "import numpy as np\n",
        "import matplotlib.pyplot as plt"
      ],
      "metadata": {
        "id": "ehVpzD44Nylu"
      },
      "execution_count": 2,
      "outputs": []
    },
    {
      "cell_type": "code",
      "source": [
        "#Funcion para convertir string a float, devueve un lista np\n",
        "def str2float(lst):\n",
        "\treturn np.array([float(i) for i in lst])"
      ],
      "metadata": {
        "id": "ybO875o7N_Ap"
      },
      "execution_count": 3,
      "outputs": []
    },
    {
      "cell_type": "code",
      "source": [
        "##########Ajuste Lineal de los datos##########\n",
        "#calculo de la pendiente y el intercepto\n",
        "def linearAdjust(x_exp, y_exp):\n",
        "  slope = (n*sum(x_exp*y_exp)-sum(x_exp)*sum(y_exp))/(n*sum(x_exp**2) - sum(x_exp)**2)\n",
        "  intercept = (sum(x_exp**2)*sum(y_exp) - sum(x_exp)*sum(x_exp*y_exp))/(n*sum(x_exp**2) - sum(x_exp)**2)\n",
        "\n",
        "  #calculo de la desviacion estandar en Y\n",
        "  dy=y_exp -(slope*x_exp+intercept)\n",
        "  Dy = np.sqrt(sum(dy**2)/(n-2))\n",
        "\n",
        "  #calculo del error en la pendiente\n",
        "  Dm = Dy*np.sqrt(n/(n*sum(x_exp**2) -sum(x_exp)**2));\n",
        "\n",
        "  #calculo del error en el intercepto\n",
        "  Db = Dy/np.sqrt(n);\n",
        "\n",
        "  #Coeficiente de correlacion lineal\n",
        "  r1 = (n*sum(x_exp*y_exp)-sum(x_exp)*sum(y_exp));\n",
        "  r2 = np.sqrt((n*sum(x_exp**2)-sum(x_exp)**2)*(n*sum(y_exp**2)-sum(y_exp)**2));\n",
        "  r = np.abs(r1/r2);\n",
        "  #%r = (n*sum(x.*y)-sum(x)*sum(y))/sqrt((n*sum(x.*x)-sum(x)^2)(n*sum(y.*y)-sum(y)^2));\n",
        "\n",
        "  return slope, intercept, Dm, Db, Dy, r"
      ],
      "metadata": {
        "id": "Q7E7mv0iPmMI"
      },
      "execution_count": 4,
      "outputs": []
    },
    {
      "cell_type": "code",
      "source": [
        "#Se pide el nombre de archivo\n",
        "print(\"Nombre de archivo de los datos con extension: \", end=\"\")\n",
        "name = str(input())\n",
        "#name = \"nombre_archivo.csv\"\n",
        "print(\"Delimitador de campo: \", end=\"\")\n",
        "delimiter = str(input())\n",
        "#delimiter = ';'\n",
        "print(\"# de linea de inicio de datos: \", end=\"\")\n",
        "sLine = int(input())\n",
        "#sLine = '1'\n",
        "\n",
        "#Cargamos el archivo con los datos, estos deben estar en la misma carpeta del archivo fuente\n",
        "fileData = np.loadtxt(name,dtype=str, delimiter=delimiter, skiprows = sLine)"
      ],
      "metadata": {
        "colab": {
          "base_uri": "https://localhost:8080/"
        },
        "id": "YGczvA6gOGXs",
        "outputId": "8aae2188-76ec-4508-9331-a9d9078dd66b"
      },
      "execution_count": null,
      "outputs": [
        {
          "name": "stdout",
          "output_type": "stream",
          "text": [
            "Nombre de archivo de los datos con extension: /content/gdrive/MyDrive/Colab Notebooks/dataLineal.csv\n",
            "Delimitador de campo: ;\n",
            "# de linea de inicio de datos: 1\n"
          ]
        }
      ]
    },
    {
      "cell_type": "code",
      "source": [
        "##Proceso de extraccion de los datos del archivo de datos\n",
        "#x_exp = np.array([float(i) for i in fileData[:,0]])\n",
        "#y_exp = np.array([float(i) for i in fileData[:,1]])\n",
        "x_exp = str2float(fileData[:,0])\n",
        "y_exp = str2float(fileData[:,1])\n",
        "n = x_exp.size\n",
        "\n",
        "print(\"x data: {}\".format(x_exp))\n",
        "print(\"y data: {}\".format(y_exp))\n",
        "print(\"# data: {}\".format(n))"
      ],
      "metadata": {
        "colab": {
          "base_uri": "https://localhost:8080/"
        },
        "id": "hW1tKpMFOccV",
        "outputId": "d111c207-8055-4421-8267-ce9d11b89b30"
      },
      "execution_count": null,
      "outputs": [
        {
          "output_type": "stream",
          "name": "stdout",
          "text": [
            "x data: [0.  0.1 0.2 0.3 0.4 0.5 0.6 0.7 0.8 0.9 1.  1.1 1.2 1.3 1.4 1.5 1.6 1.7\n",
            " 1.8 1.9 2.  2.1 2.2 2.3 2.4 2.5 2.6 2.7 2.8 2.9 3. ]\n",
            "y data: [0.68029655 0.32117377 0.90069757 0.50999763 0.89333931 0.6974341\n",
            " 0.55848437 1.03126535 1.10260538 0.85417814 0.61478569 1.37404058\n",
            " 1.20730902 1.30239317 0.96516627 1.66757207 1.87491081 1.75556273\n",
            " 1.24742562 1.18754021 1.70110435 1.15129752 1.20281623 1.85379455\n",
            " 1.52236772 1.91267278 1.86780395 2.42936589 1.5638423  2.08798776\n",
            " 2.28858628]\n",
            "# data: 31\n"
          ]
        }
      ]
    },
    {
      "cell_type": "code",
      "source": [
        "#Realizamos el ajuste\n",
        "pendiente, intercepto, errorP, errorI, errorY, coeficienteR= linearAdjust(x_exp, y_exp)\n",
        "print(\"##########Ajuste Lineal de los datos##########\")\n",
        "print(\"pendiente: {}\".format(pendiente))\n",
        "print(\"intercepto: {}\".format(intercepto))\n",
        "print(\"maximo error en Dy: {}\".format(errorY))\n",
        "print(\"error en Pendiente: {}\".format(errorP))\n",
        "print(\"error en intercepto: {}\".format(errorI))\n",
        "print(\"Coeficiente de Correlacion Lineal (R^2): {}\".format(coeficienteR))\n",
        "print(\"##############################################\")"
      ],
      "metadata": {
        "colab": {
          "base_uri": "https://localhost:8080/"
        },
        "id": "Wc9VLanJPPf_",
        "outputId": "3328c2f9-837b-43c0-a752-072cb0011582"
      },
      "execution_count": null,
      "outputs": [
        {
          "output_type": "stream",
          "name": "stdout",
          "text": [
            "##########Ajuste Lineal de los datos##########\n",
            "pendiente: 0.515104603634106\n",
            "intercepto: 0.5282404393698164\n",
            "maximo error en Dy: 0.28813267291939926\n",
            "error en Pendiente: 0.05785843304430078\n",
            "error en intercepto: 0.05175015574347065\n",
            "Coeficiente de Correlacion Lineal (R^2): 0.8556447420523671\n",
            "##############################################\n"
          ]
        }
      ]
    },
    {
      "cell_type": "code",
      "source": [
        "##Se realiza el grafico del ajuste\n",
        "x_teo = np.linspace(x_exp[0], x_exp[n-1], n*100)\n",
        "y_teo = pendiente*x_teo + intercepto\n",
        "\n",
        "#print(\"Datos en x: %f\", x_exp)\n",
        "#print(\"Datos en y: %f\", y_exp)\n",
        "plt.figure()\n",
        "plt.plot(x_exp,y_exp,\"bo\", label=\"Exp. Data\")\n",
        "plt.plot(x_teo,y_teo,\"r--\", label=\"Linear Adjust\")\n",
        "plt.xlabel(\"x Data\") ##Se deben cambiar los labels  tanto en x y y\n",
        "plt.ylabel(\"y Data\")\n",
        "plt.title(\"Linear Adjust\") ##Con esta instruccion se ajuste el texto\n",
        "plt.legend()\n",
        "plt.savefig(\"linearAdjust.png\")\n",
        "plt.show()\n",
        "\n",
        "#Se leen los datos en el archivo de texto"
      ],
      "metadata": {
        "colab": {
          "base_uri": "https://localhost:8080/",
          "height": 472
        },
        "id": "_C_gBt3JRwPa",
        "outputId": "65c0fb5e-35c3-4ecd-85ef-940f58e36375"
      },
      "execution_count": null,
      "outputs": [
        {
          "output_type": "display_data",
          "data": {
            "text/plain": [
              "<Figure size 640x480 with 1 Axes>"
            ],
            "image/png": "[encoded data removed]"
          },
          "metadata": {}
        }
      ]
    }
  ]
}