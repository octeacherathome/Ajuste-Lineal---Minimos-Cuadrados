{
  "nbformat": 4,
  "nbformat_minor": 0,
  "metadata": {
    "colab": {
      "provenance": []
    },
    "kernelspec": {
      "name": "python3",
      "display_name": "Python 3"
    },
    "language_info": {
      "name": "python"
    }
  },
  "cells": [
    {
      "cell_type": "markdown",
      "source": [
        "#**Ajuste lineal utilizando el metodo de minimos cuadrados**\n",
        "El código que se muestra a continuacíon permite realizar ajustes por medio del\n",
        "método de los mínimos cuadrados"
      ],
      "metadata": {
        "id": "cporQQ7SZ3hN"
      }
    },
    {
      "cell_type": "code",
      "source": [
        "#Linea de codigo para importar la carpeta del drive al ambiente de google colab\n",
        "from google.colab import drive\n",
        "drive.mount('/content/gdrive')"
      ],
      "metadata": {
        "colab": {
          "base_uri": "https://localhost:8080/"
        },
        "id": "Ym7MdYawTmRC",
        "outputId": "4a22a8e4-fa1a-49b9-a103-97a861f54a7c"
      },
      "execution_count": null,
      "outputs": [
        {
          "output_type": "stream",
          "name": "stdout",
          "text": [
            "Drive already mounted at /content/gdrive; to attempt to forcibly remount, call drive.mount(\"/content/gdrive\", force_remount=True).\n"
          ]
        }
      ]
    },
    {
      "cell_type": "code",
      "source": [
        "#Especificamos la ruta de la carpeta en la cual estaran los datos\n",
        "from pathlib import Path\n",
        "# the path of the directory which saves your .py file\n",
        "src_dir1 = Path('/content/gdrive/MyDrive/Colab Notebooks/')\n",
        "\n",
        "# add the path to system path\n",
        "import sys\n",
        "try:\n",
        "  sys.path.index(str(src_dir1))\n",
        "except ValueError:\n",
        "  sys.path.insert(0,str(src_dir1))\n",
        "\n",
        "# print system path\n",
        "sys.path"
      ],
      "metadata": {
        "id": "xL-zFOitdR-E",
        "colab": {
          "base_uri": "https://localhost:8080/"
        },
        "outputId": "c7d30e60-0a6f-4588-87d9-cb211d1a4676"
      },
      "execution_count": null,
      "outputs": [
        {
          "output_type": "execute_result",
          "data": {
            "text/plain": [
              "['/content/gdrive/MyDrive/Colab Notebooks',\n",
              " '/content/drive/MyDrive/Colab Notebooks',\n",
              " '/content',\n",
              " '/env/python',\n",
              " '/usr/lib/python310.zip',\n",
              " '/usr/lib/python3.10',\n",
              " '/usr/lib/python3.10/lib-dynload',\n",
              " '',\n",
              " '/usr/local/lib/python3.10/dist-packages',\n",
              " '/usr/lib/python3/dist-packages',\n",
              " '/usr/local/lib/python3.10/dist-packages/IPython/extensions',\n",
              " '/usr/local/lib/python3.10/dist-packages/setuptools/_vendor',\n",
              " '/root/.ipython']"
            ]
          },
          "metadata": {},
          "execution_count": 16
        }
      ]
    },
    {
      "cell_type": "code",
      "source": [
        "#Se importan las librerias necesarias para le funcionamiento del codigo\n",
        "import numpy as np\n",
        "import matplotlib.pyplot as plt"
      ],
      "metadata": {
        "id": "ehVpzD44Nylu"
      },
      "execution_count": null,
      "outputs": []
    },
    {
      "cell_type": "code",
      "source": [
        "#Funcion para convertir string a float, devueve un lista np\n",
        "def str2float(lst):\n",
        "\treturn np.array([float(i) for i in lst])"
      ],
      "metadata": {
        "id": "ybO875o7N_Ap"
      },
      "execution_count": null,
      "outputs": []
    },
    {
      "cell_type": "code",
      "source": [
        "##########Ajuste Lineal de los datos##########\n",
        "#calculo de la pendiente y el intercepto\n",
        "def linearAdjust(x_exp, y_exp):\n",
        "  slope = (n*sum(x_exp*y_exp)-sum(x_exp)*sum(y_exp))/(n*sum(x_exp**2) - sum(x_exp)**2)\n",
        "  intercept = (sum(x_exp**2)*sum(y_exp) - sum(x_exp)*sum(x_exp*y_exp))/(n*sum(x_exp**2) - sum(x_exp)**2)\n",
        "\n",
        "  #calculo de la desviacion estandar en Y\n",
        "  dy=y_exp -(slope*x_exp+intercept)\n",
        "  Dy = np.sqrt(sum(dy**2)/(n-2))\n",
        "\n",
        "  #calculo del error en la pendiente\n",
        "  Dm = Dy*np.sqrt(n/(n*sum(x_exp**2) -sum(x_exp)**2));\n",
        "\n",
        "  #calculo del error en el intercepto\n",
        "  Db = Dy/np.sqrt(n);\n",
        "\n",
        "  #Coeficiente de correlacion lineal\n",
        "  r1 = (n*sum(x_exp*y_exp)-sum(x_exp)*sum(y_exp));\n",
        "  r2 = np.sqrt((n*sum(x_exp**2)-sum(x_exp)**2)*(n*sum(y_exp**2)-sum(y_exp)**2));\n",
        "  r = np.abs(r1/r2);\n",
        "  #%r = (n*sum(x.*y)-sum(x)*sum(y))/sqrt((n*sum(x.*x)-sum(x)^2)(n*sum(y.*y)-sum(y)^2));\n",
        "\n",
        "  return slope, intercept, Dm, Db, Dy, r"
      ],
      "metadata": {
        "id": "Q7E7mv0iPmMI"
      },
      "execution_count": null,
      "outputs": []
    },
    {
      "cell_type": "code",
      "source": [
        "#Se pide el nombre de archivo\n",
        "print(\"Nombre de archivo de los datos con extension: \", end=\"\")\n",
        "name = str(input())\n",
        "#name = \"nombre_archivo.csv\"\n",
        "print(\"Delimitador de campo: \", end=\"\")\n",
        "delimiter = str(input())\n",
        "#delimiter = ';'\n",
        "print(\"# de linea de inicio de datos: \", end=\"\")\n",
        "sLine = int(input())\n",
        "#sLine = '1'\n",
        "\n",
        "#Cargamos el archivo con los datos, estos deben estar en la misma carpeta del archivo fuente\n",
        "fileData = np.loadtxt(sys.path[0]+'/'+name,dtype=str, delimiter=delimiter, skiprows = sLine)"
      ],
      "metadata": {
        "colab": {
          "base_uri": "https://localhost:8080/"
        },
        "id": "YGczvA6gOGXs",
        "outputId": "e28097dd-1b5b-4d94-b500-ffdfd8307f8e"
      },
      "execution_count": null,
      "outputs": [
        {
          "name": "stdout",
          "output_type": "stream",
          "text": [
            "Nombre de archivo de los datos con extension: caidaLibre.csv\n",
            "Delimitador de campo: ;\n",
            "# de linea de inicio de datos: 0\n"
          ]
        }
      ]
    },
    {
      "cell_type": "code",
      "source": [
        "##Proceso de extraccion de los datos del archivo de datos\n",
        "#x_exp = np.array([float(i) for i in fileData[:,0]])\n",
        "#y_exp = np.array([float(i) for i in fileData[:,1]])\n",
        "x_exp = str2float(fileData[:,0])\n",
        "y_exp = str2float(fileData[:,1])\n",
        "n = x_exp.size\n",
        "\n",
        "print(\"x data: {}\".format(x_exp))\n",
        "print(\"y data: {}\".format(y_exp))\n",
        "print(\"# data: {}\".format(n))"
      ],
      "metadata": {
        "colab": {
          "base_uri": "https://localhost:8080/"
        },
        "id": "hW1tKpMFOccV",
        "outputId": "1360caa0-2a07-4f88-d509-836c410befae"
      },
      "execution_count": null,
      "outputs": [
        {
          "output_type": "stream",
          "name": "stdout",
          "text": [
            "x data: [0.148 0.196 0.244 0.29  0.315 0.352 0.385 0.403]\n",
            "y data: [0.31622777 0.4472136  0.54772256 0.63245553 0.70710678 0.77459667\n",
            " 0.83666003 0.89442719]\n",
            "# data: 8\n"
          ]
        }
      ]
    },
    {
      "cell_type": "code",
      "source": [
        "#Realizamos el ajuste\n",
        "pendiente, intercepto, errorP, errorI, errorY, coeficienteR= linearAdjust(x_exp, y_exp)\n",
        "print(\"##########Ajuste Lineal de los datos##########\")\n",
        "print(\"pendiente: {}\".format(pendiente))\n",
        "print(\"intercepto: {}\".format(intercepto))\n",
        "print(\"maximo error en Dy: {}\".format(errorY))\n",
        "print(\"error en Pendiente: {}\".format(errorP))\n",
        "print(\"error en intercepto: {}\".format(errorI))\n",
        "print(\"Coeficiente de Correlacion Lineal (R^2): {}\".format(coeficienteR))\n",
        "print(\"##############################################\")"
      ],
      "metadata": {
        "colab": {
          "base_uri": "https://localhost:8080/"
        },
        "id": "Wc9VLanJPPf_",
        "outputId": "584ecc96-0461-4d2c-aa87-2e1dcbebc9cd"
      },
      "execution_count": null,
      "outputs": [
        {
          "output_type": "stream",
          "name": "stdout",
          "text": [
            "##########Ajuste Lineal de los datos##########\n",
            "pendiente: 2.1921804684419586\n",
            "intercepto: 0.005256635767822537\n",
            "maximo error en Dy: 0.011454001849149879\n",
            "error en Pendiente: 0.04782563249633462\n",
            "error en intercepto: 0.004049601189628567\n",
            "Coeficiente de Correlacion Lineal (R^2): 0.9985751763032072\n",
            "##############################################\n"
          ]
        }
      ]
    },
    {
      "cell_type": "code",
      "source": [
        "##Se realiza el grafico del ajuste\n",
        "x_teo = np.linspace(x_exp[0], x_exp[n-1], n*100)\n",
        "y_teo = pendiente*x_teo + intercepto\n",
        "\n",
        "#print(\"Datos en x: %f\", x_exp)\n",
        "#print(\"Datos en y: %f\", y_exp)\n",
        "plt.figure()\n",
        "plt.plot(x_exp,y_exp,\"bo\", label=\"Exp. Data\")\n",
        "plt.plot(x_teo,y_teo,\"r--\", label=\"Linear Adjust\")\n",
        "plt.xlabel(\"x Data\") ##Se deben cambiar los labels  tanto en x y y\n",
        "plt.ylabel(\"y Data\")\n",
        "plt.title(\"Linear Adjust\") ##Con esta instruccion se ajuste el texto\n",
        "plt.legend()\n",
        "plt.savefig(sys.path[0]+'/'+\"linearAdjust.png\")\n",
        "plt.show()\n",
        "\n",
        "#Se leen los datos en el archivo de texto"
      ],
      "metadata": {
        "colab": {
          "base_uri": "https://localhost:8080/",
          "height": 472
        },
        "id": "_C_gBt3JRwPa",
        "outputId": "3ce9b95a-e62c-4428-ad5d-076d05e98d76"
      },
      "execution_count": null,
      "outputs": [
        {
          "output_type": "display_data",
          "data": {
            "text/plain": [
              "<Figure size 640x480 with 1 Axes>"
            ],
            "image/png": "[encoded data removed]"
          },
          "metadata": {}
        }
      ]
    }
  ]
}